{
 "cells": [
  {
   "cell_type": "markdown",
   "id": "36d3d8ff-8604-4600-9d2d-b0db988de9fc",
   "metadata": {},
   "source": [
    "# Classification Dictionary"
   ]
  },
  {
   "cell_type": "markdown",
   "id": "c58d4e8e-b438-4ff8-84fa-a9e21dfe4139",
   "metadata": {
    "tags": []
   },
   "source": [
    "This serves as a repository for functions regarding classification.\n",
    "\n",
    "To test the functions, the banknote.csv file will be used to classify whether a bill is counterfit or not based on the information in the data set."
   ]
  },
  {
   "cell_type": "markdown",
   "id": "ba0fbc11-2ad6-4992-892c-533a8a73e5ab",
   "metadata": {},
   "source": [
    "### List of Functions"
   ]
  },
  {
   "cell_type": "markdown",
   "id": "b7ad7092-6c06-482f-8e5f-91ebbe827d18",
   "metadata": {},
   "source": [
    "1. Convert Columns to Standard Units\n",
    "2. Split Data Set\n",
    "3. Visualize data in 3d\n",
    "4. Classifies point with given k\n",
    "5. Test accuracy of model\n"
   ]
  },
  {
   "cell_type": "markdown",
   "id": "a379d516-6fd4-4e27-b2ab-7fdb3acced8d",
   "metadata": {},
   "source": [
    "### Imports"
   ]
  },
  {
   "cell_type": "code",
   "execution_count": 331,
   "id": "1369c5ad-1f72-4558-8b5d-147e2b173d11",
   "metadata": {},
   "outputs": [
    {
     "data": {
      "text/html": [
       "<div>\n",
       "<style scoped>\n",
       "    .dataframe tbody tr th:only-of-type {\n",
       "        vertical-align: middle;\n",
       "    }\n",
       "\n",
       "    .dataframe tbody tr th {\n",
       "        vertical-align: top;\n",
       "    }\n",
       "\n",
       "    .dataframe thead th {\n",
       "        text-align: right;\n",
       "    }\n",
       "</style>\n",
       "<table border=\"1\" class=\"dataframe\">\n",
       "  <thead>\n",
       "    <tr style=\"text-align: right;\">\n",
       "      <th></th>\n",
       "      <th>WaveletVar</th>\n",
       "      <th>WaveletSkew</th>\n",
       "      <th>WaveletCurt</th>\n",
       "      <th>Entropy</th>\n",
       "      <th>Class</th>\n",
       "    </tr>\n",
       "  </thead>\n",
       "  <tbody>\n",
       "    <tr>\n",
       "      <th>0</th>\n",
       "      <td>3.62160</td>\n",
       "      <td>8.66610</td>\n",
       "      <td>-2.8073</td>\n",
       "      <td>-0.44699</td>\n",
       "      <td>Counterfit</td>\n",
       "    </tr>\n",
       "    <tr>\n",
       "      <th>1</th>\n",
       "      <td>4.54590</td>\n",
       "      <td>8.16740</td>\n",
       "      <td>-2.4586</td>\n",
       "      <td>-1.46210</td>\n",
       "      <td>Counterfit</td>\n",
       "    </tr>\n",
       "    <tr>\n",
       "      <th>2</th>\n",
       "      <td>3.86600</td>\n",
       "      <td>-2.63830</td>\n",
       "      <td>1.9242</td>\n",
       "      <td>0.10645</td>\n",
       "      <td>Counterfit</td>\n",
       "    </tr>\n",
       "    <tr>\n",
       "      <th>3</th>\n",
       "      <td>3.45660</td>\n",
       "      <td>9.52280</td>\n",
       "      <td>-4.0112</td>\n",
       "      <td>-3.59440</td>\n",
       "      <td>Counterfit</td>\n",
       "    </tr>\n",
       "    <tr>\n",
       "      <th>4</th>\n",
       "      <td>0.32924</td>\n",
       "      <td>-4.45520</td>\n",
       "      <td>4.5718</td>\n",
       "      <td>-0.98880</td>\n",
       "      <td>Counterfit</td>\n",
       "    </tr>\n",
       "    <tr>\n",
       "      <th>...</th>\n",
       "      <td>...</td>\n",
       "      <td>...</td>\n",
       "      <td>...</td>\n",
       "      <td>...</td>\n",
       "      <td>...</td>\n",
       "    </tr>\n",
       "    <tr>\n",
       "      <th>1367</th>\n",
       "      <td>0.40614</td>\n",
       "      <td>1.34920</td>\n",
       "      <td>-1.4501</td>\n",
       "      <td>-0.55949</td>\n",
       "      <td>Real</td>\n",
       "    </tr>\n",
       "    <tr>\n",
       "      <th>1368</th>\n",
       "      <td>-1.38870</td>\n",
       "      <td>-4.87730</td>\n",
       "      <td>6.4774</td>\n",
       "      <td>0.34179</td>\n",
       "      <td>Real</td>\n",
       "    </tr>\n",
       "    <tr>\n",
       "      <th>1369</th>\n",
       "      <td>-3.75030</td>\n",
       "      <td>-13.45860</td>\n",
       "      <td>17.5932</td>\n",
       "      <td>-2.77710</td>\n",
       "      <td>Real</td>\n",
       "    </tr>\n",
       "    <tr>\n",
       "      <th>1370</th>\n",
       "      <td>-3.56370</td>\n",
       "      <td>-8.38270</td>\n",
       "      <td>12.3930</td>\n",
       "      <td>-1.28230</td>\n",
       "      <td>Real</td>\n",
       "    </tr>\n",
       "    <tr>\n",
       "      <th>1371</th>\n",
       "      <td>-2.54190</td>\n",
       "      <td>-0.65804</td>\n",
       "      <td>2.6842</td>\n",
       "      <td>1.19520</td>\n",
       "      <td>Real</td>\n",
       "    </tr>\n",
       "  </tbody>\n",
       "</table>\n",
       "<p>1372 rows × 5 columns</p>\n",
       "</div>"
      ],
      "text/plain": [
       "      WaveletVar  WaveletSkew  WaveletCurt  Entropy       Class\n",
       "0        3.62160      8.66610      -2.8073 -0.44699  Counterfit\n",
       "1        4.54590      8.16740      -2.4586 -1.46210  Counterfit\n",
       "2        3.86600     -2.63830       1.9242  0.10645  Counterfit\n",
       "3        3.45660      9.52280      -4.0112 -3.59440  Counterfit\n",
       "4        0.32924     -4.45520       4.5718 -0.98880  Counterfit\n",
       "...          ...          ...          ...      ...         ...\n",
       "1367     0.40614      1.34920      -1.4501 -0.55949        Real\n",
       "1368    -1.38870     -4.87730       6.4774  0.34179        Real\n",
       "1369    -3.75030    -13.45860      17.5932 -2.77710        Real\n",
       "1370    -3.56370     -8.38270      12.3930 -1.28230        Real\n",
       "1371    -2.54190     -0.65804       2.6842  1.19520        Real\n",
       "\n",
       "[1372 rows x 5 columns]"
      ]
     },
     "execution_count": 331,
     "metadata": {},
     "output_type": "execute_result"
    }
   ],
   "source": [
    "import numpy as np\n",
    "from datascience import *\n",
    "\n",
    "import matplotlib\n",
    "%matplotlib inline\n",
    "import matplotlib.pyplot as plt\n",
    "plt.style.use('fivethirtyeight')\n",
    "\n",
    "df0 = pd.read_csv(r'banknote.csv')\n",
    "df = df0.replace(to_replace = {\n",
    "            'Class' : {(0):'Counterfit',\n",
    "                       (1):'Real'}})\n",
    "df"
   ]
  },
  {
   "cell_type": "markdown",
   "id": "7c781e0c-e7f9-47b9-8c94-d4431865fafe",
   "metadata": {},
   "source": [
    "### Convert Columns to Standard Units"
   ]
  },
  {
   "cell_type": "code",
   "execution_count": 332,
   "id": "c86403d0-637b-4117-923b-11d85ac4276e",
   "metadata": {},
   "outputs": [],
   "source": [
    "#Converts the float or int values from a column in a table to standard units\n",
    "#and returns an array.\n",
    "def convert_to_standard_units(table, column):\n",
    "    arr_col = table[column]\n",
    "    mean_col = np.mean(arr_col)\n",
    "    sd_col = np.std(arr_col)\n",
    "    standardized = (arr_col - mean_col) / sd_col\n",
    "    return standardized"
   ]
  },
  {
   "cell_type": "code",
   "execution_count": 333,
   "id": "322541f6-c55b-4dc5-9f5b-63ca392cc97b",
   "metadata": {},
   "outputs": [
    {
     "data": {
      "text/plain": [
       "0    1.121806\n",
       "1    1.447066\n",
       "2    1.207810\n",
       "3    1.063742\n",
       "4   -0.036772\n",
       "Name: WaveletVar, dtype: float64"
      ]
     },
     "execution_count": 333,
     "metadata": {},
     "output_type": "execute_result"
    }
   ],
   "source": [
    "convert_to_standard_units(df, 'WaveletVar')[:5]"
   ]
  },
  {
   "cell_type": "code",
   "execution_count": 334,
   "id": "23d21e35-cc92-49cc-a0e1-ec2baa4952eb",
   "metadata": {},
   "outputs": [
    {
     "data": {
      "text/html": [
       "<table border=\"1\" class=\"dataframe\">\n",
       "    <thead>\n",
       "        <tr>\n",
       "            <th>WaveletVar SU</th> <th>WaveletSkew SU</th> <th>WaveletCurt SU</th> <th>Entropy SU</th> <th>Class</th>\n",
       "        </tr>\n",
       "    </thead>\n",
       "    <tbody>\n",
       "        <tr>\n",
       "            <td>1.12181      </td> <td>1.14946       </td> <td>-0.97597      </td> <td>0.354561  </td> <td>Counterfit</td>\n",
       "        </tr>\n",
       "        <tr>\n",
       "            <td>1.44707      </td> <td>1.06445       </td> <td>-0.895036     </td> <td>-0.128767 </td> <td>Counterfit</td>\n",
       "        </tr>\n",
       "        <tr>\n",
       "            <td>1.20781      </td> <td>-0.777352     </td> <td>0.122218      </td> <td>0.618073  </td> <td>Counterfit</td>\n",
       "        </tr>\n",
       "        <tr>\n",
       "            <td>1.06374      </td> <td>1.29548       </td> <td>-1.2554       </td> <td>-1.14403  </td> <td>Counterfit</td>\n",
       "        </tr>\n",
       "        <tr>\n",
       "            <td>-0.0367718   </td> <td>-1.08704      </td> <td>0.73673       </td> <td>0.096587  </td> <td>Counterfit</td>\n",
       "        </tr>\n",
       "        <tr>\n",
       "            <td>1.3846       </td> <td>1.32087       </td> <td>-1.24365      </td> <td>-0.938386 </td> <td>Counterfit</td>\n",
       "        </tr>\n",
       "        <tr>\n",
       "            <td>1.11111      </td> <td>0.185881      </td> <td>-0.155217     </td> <td>0.836028  </td> <td>Counterfit</td>\n",
       "        </tr>\n",
       "        <tr>\n",
       "            <td>0.583612     </td> <td>-1.48841      </td> <td>1.64002       </td> <td>0.28068   </td> <td>Counterfit</td>\n",
       "        </tr>\n",
       "        <tr>\n",
       "            <td>0.974571     </td> <td>0.653913      </td> <td>-0.499268     </td> <td>0.275752  </td> <td>Counterfit</td>\n",
       "        </tr>\n",
       "        <tr>\n",
       "            <td>0.387745     </td> <td>1.23657       </td> <td>-0.85168      </td> <td>0.217263  </td> <td>Counterfit</td>\n",
       "        </tr>\n",
       "    </tbody>\n",
       "</table>\n",
       "<p>... (1362 rows omitted)</p>"
      ],
      "text/plain": [
       "WaveletVar SU | WaveletSkew SU | WaveletCurt SU | Entropy SU | Class\n",
       "1.12181       | 1.14946        | -0.97597       | 0.354561   | Counterfit\n",
       "1.44707       | 1.06445        | -0.895036      | -0.128767  | Counterfit\n",
       "1.20781       | -0.777352      | 0.122218       | 0.618073   | Counterfit\n",
       "1.06374       | 1.29548        | -1.2554        | -1.14403   | Counterfit\n",
       "-0.0367718    | -1.08704       | 0.73673        | 0.096587   | Counterfit\n",
       "1.3846        | 1.32087        | -1.24365       | -0.938386  | Counterfit\n",
       "1.11111       | 0.185881       | -0.155217      | 0.836028   | Counterfit\n",
       "0.583612      | -1.48841       | 1.64002        | 0.28068    | Counterfit\n",
       "0.974571      | 0.653913       | -0.499268      | 0.275752   | Counterfit\n",
       "0.387745      | 1.23657        | -0.85168       | 0.217263   | Counterfit\n",
       "... (1362 rows omitted)"
      ]
     },
     "execution_count": 334,
     "metadata": {},
     "output_type": "execute_result"
    }
   ],
   "source": [
    "notes_su = Table().with_columns(\n",
    "    'WaveletVar SU', convert_to_standard_units(df, 'WaveletVar'),\n",
    "    'WaveletSkew SU', convert_to_standard_units(df, 'WaveletSkew'),\n",
    "    'WaveletCurt SU', convert_to_standard_units(df, 'WaveletCurt'),\n",
    "    'Entropy SU', convert_to_standard_units(df, 'Entropy'),\n",
    "    'Class', df['Class'])\n",
    "\n",
    "notes_su"
   ]
  },
  {
   "cell_type": "markdown",
   "id": "4f4d8004-9782-473f-9c57-3c9b9e62b66d",
   "metadata": {},
   "source": [
    "### Split the data into training and test set"
   ]
  },
  {
   "cell_type": "code",
   "execution_count": 335,
   "id": "28f035d9-de21-4f51-aeab-97812ea130e8",
   "metadata": {},
   "outputs": [
    {
     "name": "stdout",
     "output_type": "stream",
     "text": [
      "Training:  [[1029]] ; Test: [[343]]\n"
     ]
    },
    {
     "name": "stderr",
     "output_type": "stream",
     "text": [
      "C:\\Users\\raywz\\anaconda3\\lib\\site-packages\\datascience\\tables.py:222: FutureWarning: Implicit column method lookup is deprecated.\n",
      "  warnings.warn(\"Implicit column method lookup is deprecated.\", FutureWarning)\n"
     ]
    }
   ],
   "source": [
    "#Splits a dataset\n",
    "#Replace 'df' with desired dataframe\n",
    "#Replace .75(default) w/ percent of data one wants to train the model on\n",
    "df1 = notes_su\n",
    "training_proportion = .75\n",
    "\n",
    "#Don't Touch\n",
    "#Shuffles the dataframe\n",
    "df2 = df1.sample(with_replacement = False)\n",
    "\n",
    "#Don't Touch!\n",
    "#Determines training number of rows.\n",
    "num_rows = df2.shape[0]\n",
    "train_num = (num_rows*training_proportion).astype(int)\n",
    "\n",
    "#Don't Touch!\n",
    "#Splits the set\n",
    "train_df = df2.take(np.arange(train_num))\n",
    "test_df = df2.take(np.arange(train_num, num_rows))\n",
    "\n",
    "#prints number of rows for training and testing.\n",
    "#Don't Touch!\n",
    "print('Training: ', train_df.shape[0],  \n",
    "     ';', 'Test:', test_df.shape[0])"
   ]
  },
  {
   "cell_type": "code",
   "execution_count": 336,
   "id": "dd069638-4d70-48e6-89b5-fae92fb9bc27",
   "metadata": {},
   "outputs": [
    {
     "data": {
      "text/html": [
       "<table border=\"1\" class=\"dataframe\">\n",
       "    <thead>\n",
       "        <tr>\n",
       "            <th>WaveletVar SU</th> <th>WaveletSkew SU</th> <th>WaveletCurt SU</th> <th>Entropy SU</th> <th>Class</th>\n",
       "        </tr>\n",
       "    </thead>\n",
       "    <tbody>\n",
       "        <tr>\n",
       "            <td>1.16069      </td> <td>-0.989679     </td> <td>0.454936      </td> <td>0.564509  </td> <td>Counterfit</td>\n",
       "        </tr>\n",
       "        <tr>\n",
       "            <td>1.88215      </td> <td>0.623232      </td> <td>-0.883501     </td> <td>0.540497  </td> <td>Counterfit</td>\n",
       "        </tr>\n",
       "        <tr>\n",
       "            <td>-0.688502    </td> <td>-1.43197      </td> <td>1.01177       </td> <td>0.983173  </td> <td>Real      </td>\n",
       "        </tr>\n",
       "        <tr>\n",
       "            <td>-0.296737    </td> <td>-0.354116     </td> <td>-0.310339     </td> <td>0.525105  </td> <td>Real      </td>\n",
       "        </tr>\n",
       "        <tr>\n",
       "            <td>-1.5679      </td> <td>-1.74306      </td> <td>2.58964       </td> <td>-0.151527 </td> <td>Real      </td>\n",
       "        </tr>\n",
       "        <tr>\n",
       "            <td>-0.801497    </td> <td>-1.80161      </td> <td>1.45806       </td> <td>0.249893  </td> <td>Real      </td>\n",
       "        </tr>\n",
       "        <tr>\n",
       "            <td>0.183876     </td> <td>0.0938223     </td> <td>0.710271      </td> <td>0.670405  </td> <td>Counterfit</td>\n",
       "        </tr>\n",
       "        <tr>\n",
       "            <td>-0.0367718   </td> <td>-1.08704      </td> <td>0.73673       </td> <td>0.096587  </td> <td>Counterfit</td>\n",
       "        </tr>\n",
       "        <tr>\n",
       "            <td>0.249589     </td> <td>-0.185522     </td> <td>0.941769      </td> <td>0.296068  </td> <td>Counterfit</td>\n",
       "        </tr>\n",
       "        <tr>\n",
       "            <td>-1.06472     </td> <td>-0.507534     </td> <td>0.579621      </td> <td>0.937616  </td> <td>Real      </td>\n",
       "        </tr>\n",
       "    </tbody>\n",
       "</table>\n",
       "<p>... (1019 rows omitted)</p>"
      ],
      "text/plain": [
       "WaveletVar SU | WaveletSkew SU | WaveletCurt SU | Entropy SU | Class\n",
       "1.16069       | -0.989679      | 0.454936       | 0.564509   | Counterfit\n",
       "1.88215       | 0.623232       | -0.883501      | 0.540497   | Counterfit\n",
       "-0.688502     | -1.43197       | 1.01177        | 0.983173   | Real\n",
       "-0.296737     | -0.354116      | -0.310339      | 0.525105   | Real\n",
       "-1.5679       | -1.74306       | 2.58964        | -0.151527  | Real\n",
       "-0.801497     | -1.80161       | 1.45806        | 0.249893   | Real\n",
       "0.183876      | 0.0938223      | 0.710271       | 0.670405   | Counterfit\n",
       "-0.0367718    | -1.08704       | 0.73673        | 0.096587   | Counterfit\n",
       "0.249589      | -0.185522      | 0.941769       | 0.296068   | Counterfit\n",
       "-1.06472      | -0.507534      | 0.579621       | 0.937616   | Real\n",
       "... (1019 rows omitted)"
      ]
     },
     "execution_count": 336,
     "metadata": {},
     "output_type": "execute_result"
    }
   ],
   "source": [
    "train_df"
   ]
  },
  {
   "cell_type": "markdown",
   "id": "9be29a1c-f58c-454a-b6f9-94e88351865b",
   "metadata": {},
   "source": [
    "### Scatterpots 3d variables"
   ]
  },
  {
   "cell_type": "code",
   "execution_count": 339,
   "id": "9c719776-73b3-4303-afcb-e5470e4dc801",
   "metadata": {},
   "outputs": [
    {
     "data": {
      "text/plain": [
       "<mpl_toolkits.mplot3d.art3d.Path3DCollection at 0x25fea8e0250>"
      ]
     },
     "execution_count": 339,
     "metadata": {},
     "output_type": "execute_result"
    },
    {
     "data": {
      "image/png": "[encoded data removed]",
      "text/plain": [
       "<Figure size 576x576 with 1 Axes>"
      ]
     },
     "metadata": {},
     "output_type": "display_data"
    }
   ],
   "source": [
    "#replace df w/ desired df.\n",
    "#replace col1, col2, and col3 with desired variables\n",
    "notes_su\n",
    "col1 = 'WaveletSkew SU'\n",
    "col2 = 'WaveletVar SU'\n",
    "col3 = 'WaveletCurt SU'\n",
    "\n",
    "scat = plt.figure(figsize=(8,8)).add_subplot(111, projection='3d')\n",
    "\n",
    "# Create the colors list using the function above\n",
    "scat.scatter( df2[col1], \n",
    "            df2[col2], \n",
    "            df2[col3],\n",
    "             c = df2[col1]) "
   ]
  },
  {
   "cell_type": "markdown",
   "id": "9bca82ed-248e-4f7b-968f-0cc37962f16f",
   "metadata": {},
   "source": [
    "# Functions for Classification"
   ]
  },
  {
   "cell_type": "markdown",
   "id": "ee657ada-3186-4379-925f-805786665422",
   "metadata": {},
   "source": [
    "### Classifies Given Point"
   ]
  },
  {
   "cell_type": "code",
   "execution_count": 354,
   "id": "3e64b246-c04a-4caa-af2b-5661f6eda749",
   "metadata": {},
   "outputs": [],
   "source": [
    "#Classifies a point based on data.\n",
    "#k is the number of nearest neighbors\n",
    "#Must have a column named \"Class\" to classify data against.\n",
    "def classify(training_set, new_point, k):\n",
    "    \n",
    "    #Takes distances from given point and every point in the data set\n",
    "    #Then adds a column to the data with the distance.\n",
    "    def table_with_distances(training_set, new_point):\n",
    "        \n",
    "        #Returns the distance between two points in two arrays.\n",
    "        def distance(point1, point2):\n",
    "            return np.sqrt(np.sum((point1 - point2)**2))\n",
    "    \n",
    "        #Creates an array of distances from point.\n",
    "        attributes = training_set.drop('Class')\n",
    "        def distance_from_point(row):\n",
    "               return distance(np.array(list(new_point)), np.array(list(row)))\n",
    "        distance_arr = attributes.apply(distance_from_point)\n",
    "    \n",
    "        #Creates a table with distances\n",
    "        distance_table = training_set.with_column('Distance', distance_arr)\n",
    "    \n",
    "        return distance_table\n",
    "    \n",
    "    #Picks k number of closest distances\n",
    "    def closest(training_set, new_point, k):\n",
    "        #Uses table_with_distances to select k from.\n",
    "        distances_table = table_with_distances(training_set, new_point)\n",
    "        sorted_table = distances_table.sort('Distance')\n",
    "        top_k = sorted_table.take(np.arange(k))\n",
    "        return top_k\n",
    "    \n",
    "    #Takes the closest points and finds a majority from the Class column\n",
    "    def classify(topk):\n",
    "        closest_points = closest(training_set, new_point, k)\n",
    "        #makes count of unique values in Class\n",
    "        unique_classes, unique_class_count = np.unique(closest_points['Class'], return_counts = True)\n",
    "        #sorts based on most common item\n",
    "        arr_neighbors_sort = np.argsort( - unique_class_count)\n",
    "        #returns the class that appears the most\n",
    "        most_common_class = unique_classes[arr_neighbors_sort].item(0)\n",
    "        return most_common_class\n",
    "        \n",
    "    return classify(closest(training_set, new_point, k))"
   ]
  },
  {
   "cell_type": "code",
   "execution_count": 360,
   "id": "81145e2e-5847-4084-a494-397cd1bb3c14",
   "metadata": {},
   "outputs": [
    {
     "data": {
      "text/plain": [
       "'Real'"
      ]
     },
     "execution_count": 360,
     "metadata": {},
     "output_type": "execute_result"
    }
   ],
   "source": [
    "classify(train_df, train_df.drop('Class').row(12), 10)"
   ]
  },
  {
   "cell_type": "markdown",
   "id": "d13cb999-e8d9-44b2-8ad6-98f52dc7acb2",
   "metadata": {},
   "source": [
    "### Test Accuracy of Model"
   ]
  },
  {
   "cell_type": "code",
   "execution_count": 376,
   "id": "ef7fedcb-1497-46a2-9293-70abe70eff1c",
   "metadata": {},
   "outputs": [],
   "source": [
    "#Returns the accuracy of the classifier.\n",
    "#classify_model should have 3 arguments; training set, array to test, k.\n",
    "def accuracy_of_model(classify_model, training_set, test_set, k):\n",
    "    test_attributes = test_set.drop('Class')\n",
    "    num_correct = 0\n",
    "    for i in np.arange(test_set.num_rows):\n",
    "        classified = classify_model(train_df, test_attributes.row(i), k)\n",
    "        #Calculates the number of rows that were correct\n",
    "        num_correct = num_correct + (classified == test_set.column('Class').item(i))\n",
    "    return num_correct /test_set.num_rows"
   ]
  },
  {
   "cell_type": "code",
   "execution_count": 377,
   "id": "9be17998-e603-4973-b4f0-9cdbfa27ef3e",
   "metadata": {},
   "outputs": [
    {
     "data": {
      "text/plain": [
       "0.9883381924198251"
      ]
     },
     "execution_count": 377,
     "metadata": {},
     "output_type": "execute_result"
    }
   ],
   "source": [
    "accuracy_of_model(classify, train_df, test_df, 20)"
   ]
  },
  {
   "cell_type": "markdown",
   "id": "2360d092-7239-4d43-b2f1-6426b200860d",
   "metadata": {},
   "source": [
    "Normally, having an extremely accurate model like this would be a sign of overfitting.\n",
    "<br>However, these variables are known to estimate the outcome of counterfitting extremely well.\n",
    "<br>The row to be tested is also in the data set, improving accuracy slightly. This should be taken into account, as the closest k will always be correct.\n",
    "<br>Even with larger k counts, it is still rather accurate.\n",
    "<br>This is only supposed to be a dictionary of K-Nearest neighbors from scratch.\n",
    "<br>In a real life scenario, the specific instance would not be known and included in the dataset."
   ]
  }
 ],
 "metadata": {
  "kernelspec": {
   "display_name": "Python 3",
   "language": "python",
   "name": "python3"
  },
  "language_info": {
   "codemirror_mode": {
    "name": "ipython",
    "version": 3
   },
   "file_extension": ".py",
   "mimetype": "text/x-python",
   "name": "python",
   "nbconvert_exporter": "python",
   "pygments_lexer": "ipython3",
   "version": "3.8.8"
  }
 },
 "nbformat": 4,
 "nbformat_minor": 5
}
